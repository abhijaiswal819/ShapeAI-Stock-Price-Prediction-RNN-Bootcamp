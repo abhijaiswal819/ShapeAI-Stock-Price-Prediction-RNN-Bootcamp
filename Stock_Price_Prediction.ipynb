{
  "nbformat": 4,
  "nbformat_minor": 0,
  "metadata": {
    "colab": {
      "name": "Stock Price Prediction.ipynb",
      "provenance": [],
      "collapsed_sections": []
    },
    "kernelspec": {
      "name": "python3",
      "display_name": "Python 3"
    },
    "language_info": {
      "name": "python"
    }
  },
  "cells": [
    {
      "cell_type": "code",
      "metadata": {
        "id": "47eyYc0YlZqP"
      },
      "source": [
        "import numpy as np\n",
        "import pandas as pd "
      ],
      "execution_count": 1,
      "outputs": []
    },
    {
      "cell_type": "markdown",
      "metadata": {
        "id": "S0WuAghLvVl3"
      },
      "source": [
        "### **Reading Dataset**"
      ]
    },
    {
      "cell_type": "code",
      "metadata": {
        "id": "TfnB3sQcp4H2"
      },
      "source": [
        "path =\"/content/Uniqlo(FastRetailing) 2012-2016 Training - stocks2012-2016.csv\"\n",
        "df = pd.read_csv(path)"
      ],
      "execution_count": 2,
      "outputs": []
    },
    {
      "cell_type": "code",
      "metadata": {
        "colab": {
          "base_uri": "https://localhost:8080/",
          "height": 204
        },
        "id": "oJtUL2CnqlU3",
        "outputId": "56cfb70b-45be-4851-9884-43cdebb6e08f"
      },
      "source": [
        "df.head() #show top few rows of data"
      ],
      "execution_count": 3,
      "outputs": [
        {
          "output_type": "execute_result",
          "data": {
            "text/html": [
              "<div>\n",
              "<style scoped>\n",
              "    .dataframe tbody tr th:only-of-type {\n",
              "        vertical-align: middle;\n",
              "    }\n",
              "\n",
              "    .dataframe tbody tr th {\n",
              "        vertical-align: top;\n",
              "    }\n",
              "\n",
              "    .dataframe thead th {\n",
              "        text-align: right;\n",
              "    }\n",
              "</style>\n",
              "<table border=\"1\" class=\"dataframe\">\n",
              "  <thead>\n",
              "    <tr style=\"text-align: right;\">\n",
              "      <th></th>\n",
              "      <th>Date</th>\n",
              "      <th>Open</th>\n",
              "      <th>High</th>\n",
              "      <th>Low</th>\n",
              "      <th>Close</th>\n",
              "      <th>Volume</th>\n",
              "      <th>Stock Trading</th>\n",
              "    </tr>\n",
              "  </thead>\n",
              "  <tbody>\n",
              "    <tr>\n",
              "      <th>0</th>\n",
              "      <td>2016-12-30</td>\n",
              "      <td>42120</td>\n",
              "      <td>42330</td>\n",
              "      <td>41700</td>\n",
              "      <td>41830</td>\n",
              "      <td>610000</td>\n",
              "      <td>25628028000</td>\n",
              "    </tr>\n",
              "    <tr>\n",
              "      <th>1</th>\n",
              "      <td>2016-12-29</td>\n",
              "      <td>43000</td>\n",
              "      <td>43220</td>\n",
              "      <td>42540</td>\n",
              "      <td>42660</td>\n",
              "      <td>448400</td>\n",
              "      <td>19188227000</td>\n",
              "    </tr>\n",
              "    <tr>\n",
              "      <th>2</th>\n",
              "      <td>2016-12-28</td>\n",
              "      <td>43940</td>\n",
              "      <td>43970</td>\n",
              "      <td>43270</td>\n",
              "      <td>43270</td>\n",
              "      <td>339900</td>\n",
              "      <td>14780670000</td>\n",
              "    </tr>\n",
              "    <tr>\n",
              "      <th>3</th>\n",
              "      <td>2016-12-27</td>\n",
              "      <td>43140</td>\n",
              "      <td>43700</td>\n",
              "      <td>43140</td>\n",
              "      <td>43620</td>\n",
              "      <td>400100</td>\n",
              "      <td>17427993000</td>\n",
              "    </tr>\n",
              "    <tr>\n",
              "      <th>4</th>\n",
              "      <td>2016-12-26</td>\n",
              "      <td>43310</td>\n",
              "      <td>43660</td>\n",
              "      <td>43090</td>\n",
              "      <td>43340</td>\n",
              "      <td>358200</td>\n",
              "      <td>15547803000</td>\n",
              "    </tr>\n",
              "  </tbody>\n",
              "</table>\n",
              "</div>"
            ],
            "text/plain": [
              "         Date   Open   High    Low  Close  Volume  Stock Trading\n",
              "0  2016-12-30  42120  42330  41700  41830  610000    25628028000\n",
              "1  2016-12-29  43000  43220  42540  42660  448400    19188227000\n",
              "2  2016-12-28  43940  43970  43270  43270  339900    14780670000\n",
              "3  2016-12-27  43140  43700  43140  43620  400100    17427993000\n",
              "4  2016-12-26  43310  43660  43090  43340  358200    15547803000"
            ]
          },
          "metadata": {},
          "execution_count": 3
        }
      ]
    },
    {
      "cell_type": "code",
      "metadata": {
        "colab": {
          "base_uri": "https://localhost:8080/",
          "height": 204
        },
        "id": "YMxp3AM6qqJy",
        "outputId": "63014fb4-8768-42fd-fdfa-8f2ba674ee40"
      },
      "source": [
        "df.tail() #show bottom few rows of data"
      ],
      "execution_count": 4,
      "outputs": [
        {
          "output_type": "execute_result",
          "data": {
            "text/html": [
              "<div>\n",
              "<style scoped>\n",
              "    .dataframe tbody tr th:only-of-type {\n",
              "        vertical-align: middle;\n",
              "    }\n",
              "\n",
              "    .dataframe tbody tr th {\n",
              "        vertical-align: top;\n",
              "    }\n",
              "\n",
              "    .dataframe thead th {\n",
              "        text-align: right;\n",
              "    }\n",
              "</style>\n",
              "<table border=\"1\" class=\"dataframe\">\n",
              "  <thead>\n",
              "    <tr style=\"text-align: right;\">\n",
              "      <th></th>\n",
              "      <th>Date</th>\n",
              "      <th>Open</th>\n",
              "      <th>High</th>\n",
              "      <th>Low</th>\n",
              "      <th>Close</th>\n",
              "      <th>Volume</th>\n",
              "      <th>Stock Trading</th>\n",
              "    </tr>\n",
              "  </thead>\n",
              "  <tbody>\n",
              "    <tr>\n",
              "      <th>1221</th>\n",
              "      <td>2012-01-11</td>\n",
              "      <td>14360</td>\n",
              "      <td>14750</td>\n",
              "      <td>14280</td>\n",
              "      <td>14590</td>\n",
              "      <td>1043400</td>\n",
              "      <td>15191988000</td>\n",
              "    </tr>\n",
              "    <tr>\n",
              "      <th>1222</th>\n",
              "      <td>2012-01-10</td>\n",
              "      <td>13890</td>\n",
              "      <td>14390</td>\n",
              "      <td>13860</td>\n",
              "      <td>14390</td>\n",
              "      <td>952300</td>\n",
              "      <td>13533413000</td>\n",
              "    </tr>\n",
              "    <tr>\n",
              "      <th>1223</th>\n",
              "      <td>2012-01-06</td>\n",
              "      <td>13990</td>\n",
              "      <td>14030</td>\n",
              "      <td>13790</td>\n",
              "      <td>13850</td>\n",
              "      <td>765500</td>\n",
              "      <td>10635609000</td>\n",
              "    </tr>\n",
              "    <tr>\n",
              "      <th>1224</th>\n",
              "      <td>2012-01-05</td>\n",
              "      <td>13720</td>\n",
              "      <td>13840</td>\n",
              "      <td>13600</td>\n",
              "      <td>13800</td>\n",
              "      <td>511500</td>\n",
              "      <td>7030811000</td>\n",
              "    </tr>\n",
              "    <tr>\n",
              "      <th>1225</th>\n",
              "      <td>2012-01-04</td>\n",
              "      <td>14050</td>\n",
              "      <td>14050</td>\n",
              "      <td>13700</td>\n",
              "      <td>13720</td>\n",
              "      <td>559100</td>\n",
              "      <td>7719804000</td>\n",
              "    </tr>\n",
              "  </tbody>\n",
              "</table>\n",
              "</div>"
            ],
            "text/plain": [
              "            Date   Open   High    Low  Close   Volume  Stock Trading\n",
              "1221  2012-01-11  14360  14750  14280  14590  1043400    15191988000\n",
              "1222  2012-01-10  13890  14390  13860  14390   952300    13533413000\n",
              "1223  2012-01-06  13990  14030  13790  13850   765500    10635609000\n",
              "1224  2012-01-05  13720  13840  13600  13800   511500     7030811000\n",
              "1225  2012-01-04  14050  14050  13700  13720   559100     7719804000"
            ]
          },
          "metadata": {},
          "execution_count": 4
        }
      ]
    },
    {
      "cell_type": "code",
      "metadata": {
        "colab": {
          "base_uri": "https://localhost:8080/"
        },
        "id": "9TP3eA5Rqtnd",
        "outputId": "ac1d36d3-9d7c-47aa-8253-064144b182a9"
      },
      "source": [
        "df = df['High']\n",
        "df.head()"
      ],
      "execution_count": 5,
      "outputs": [
        {
          "output_type": "execute_result",
          "data": {
            "text/plain": [
              "0    42330\n",
              "1    43220\n",
              "2    43970\n",
              "3    43700\n",
              "4    43660\n",
              "Name: High, dtype: int64"
            ]
          },
          "metadata": {},
          "execution_count": 5
        }
      ]
    },
    {
      "cell_type": "markdown",
      "metadata": {
        "id": "Akn9WeLwv_0S"
      },
      "source": [
        "### **Ploting the time series**"
      ]
    },
    {
      "cell_type": "code",
      "metadata": {
        "id": "4DjlEFlMqw_i"
      },
      "source": [
        "import matplotlib.pyplot as plt\n",
        "\n",
        "def plot_series(data):\n",
        "  for df in data :\n",
        "    plt.plot(df)\n",
        "  plt.show() "
      ],
      "execution_count": 6,
      "outputs": []
    },
    {
      "cell_type": "markdown",
      "metadata": {
        "id": "W6W1R-qlwXW7"
      },
      "source": [
        "### **Splitting the dataset in Train and Test set**"
      ]
    },
    {
      "cell_type": "code",
      "metadata": {
        "id": "Ylb_bCKDqz24"
      },
      "source": [
        "# Using 80% of the dataset for training and rest for testing\n",
        "train = df[:int(0.8*len(df))]\n",
        "test = df[int(0.8*len(df)) :]"
      ],
      "execution_count": 7,
      "outputs": []
    },
    {
      "cell_type": "markdown",
      "metadata": {
        "id": "hVwctRgaxScQ"
      },
      "source": [
        "### **Reshaping the data into the required form to be fed into the RNN**"
      ]
    },
    {
      "cell_type": "code",
      "metadata": {
        "id": "1jTL5kTUq3vI"
      },
      "source": [
        "def arrange(data,window=10):\n",
        "  x = []\n",
        "  y = []\n",
        "\n",
        "  for i,val in enumerate(data):\n",
        "    if i<window:\n",
        "      continue\n",
        "    x.append(data[i-window :i-1].values.reshape(-1,1))\n",
        "    y.append(data[i:i+1].values.reshape(-1,1))\n",
        "\n",
        "  x = np.asarray(x)\n",
        "  y = np.asarray(y)\n",
        "\n",
        "  return x,y "
      ],
      "execution_count": 8,
      "outputs": []
    },
    {
      "cell_type": "code",
      "metadata": {
        "colab": {
          "base_uri": "https://localhost:8080/"
        },
        "id": "hwNTnjdOq7mV",
        "outputId": "3c632489-8e6d-433a-8ae4-6afcff0cb835"
      },
      "source": [
        "x_train, y_train = arrange(train,15)\n",
        "print(\"x_shape is: {} and y-shape is: {}\".format(x_train.shape , y_train.shape))"
      ],
      "execution_count": 9,
      "outputs": [
        {
          "output_type": "stream",
          "text": [
            "x_shape is: (965, 14, 1) and y-shape is: (965, 1, 1)\n"
          ],
          "name": "stdout"
        }
      ]
    },
    {
      "cell_type": "code",
      "metadata": {
        "colab": {
          "base_uri": "https://localhost:8080/"
        },
        "id": "95et9OXFq-tt",
        "outputId": "3553b1b9-9ac3-4d95-cc6d-7ccab88879a3"
      },
      "source": [
        "print(x_train[0])\n",
        "print(y_train[0])"
      ],
      "execution_count": 10,
      "outputs": [
        {
          "output_type": "stream",
          "text": [
            "[[42330]\n",
            " [43220]\n",
            " [43970]\n",
            " [43700]\n",
            " [43660]\n",
            " [43840]\n",
            " [44370]\n",
            " [43630]\n",
            " [43150]\n",
            " [43550]\n",
            " [43880]\n",
            " [43440]\n",
            " [43300]\n",
            " [44000]]\n",
            "[[41560]]\n"
          ],
          "name": "stdout"
        }
      ]
    },
    {
      "cell_type": "markdown",
      "metadata": {
        "id": "2SIOoyh51zzc"
      },
      "source": [
        "### **Building the Model**"
      ]
    },
    {
      "cell_type": "code",
      "metadata": {
        "id": "Tbh2BF9nrB_U"
      },
      "source": [
        "import tensorflow as tf\n",
        "from tensorflow import keras\n",
        "from keras.models import Sequential\n",
        "from keras.layers import SimpleRNN,Dense,Input"
      ],
      "execution_count": 11,
      "outputs": []
    },
    {
      "cell_type": "code",
      "metadata": {
        "colab": {
          "base_uri": "https://localhost:8080/"
        },
        "id": "E7vyNQhwrEo5",
        "outputId": "9a2a2f2d-ad9f-41f4-ee53-38a699637a09"
      },
      "source": [
        "x_train.shape[1:]"
      ],
      "execution_count": 12,
      "outputs": [
        {
          "output_type": "execute_result",
          "data": {
            "text/plain": [
              "(14, 1)"
            ]
          },
          "metadata": {},
          "execution_count": 12
        }
      ]
    },
    {
      "cell_type": "code",
      "metadata": {
        "colab": {
          "base_uri": "https://localhost:8080/"
        },
        "id": "TeWcZp_ArIQp",
        "outputId": "1a066ed6-66c3-4b8d-8065-1dd24b0aed1d"
      },
      "source": [
        "Netp = Sequential()\n",
        "Netp.add(SimpleRNN(3,activation='relu',input_shape=x_train.shape[1:]))\n",
        "Netp.add(Dense(1,activation='relu'))\n",
        "\n",
        "Netp.summary()"
      ],
      "execution_count": 13,
      "outputs": [
        {
          "output_type": "stream",
          "text": [
            "Model: \"sequential\"\n",
            "_________________________________________________________________\n",
            "Layer (type)                 Output Shape              Param #   \n",
            "=================================================================\n",
            "simple_rnn (SimpleRNN)       (None, 3)                 15        \n",
            "_________________________________________________________________\n",
            "dense (Dense)                (None, 1)                 4         \n",
            "=================================================================\n",
            "Total params: 19\n",
            "Trainable params: 19\n",
            "Non-trainable params: 0\n",
            "_________________________________________________________________\n"
          ],
          "name": "stdout"
        }
      ]
    },
    {
      "cell_type": "code",
      "metadata": {
        "id": "5M9zYMV8rL93"
      },
      "source": [
        "Netp.compile(loss = 'mean_squared_error',optimizer='adam',metrics=['mse'])"
      ],
      "execution_count": 14,
      "outputs": []
    },
    {
      "cell_type": "code",
      "metadata": {
        "colab": {
          "base_uri": "https://localhost:8080/"
        },
        "id": "uUfFhb2hrOqp",
        "outputId": "4eb47c8b-1a6f-45fa-a2a8-9470aa24b45a"
      },
      "source": [
        "Netp.fit(x_train, y_train, epochs=10)"
      ],
      "execution_count": 15,
      "outputs": [
        {
          "output_type": "stream",
          "text": [
            "Epoch 1/10\n",
            "31/31 [==============================] - 1s 4ms/step - loss: 421698592.0000 - mse: 421698592.0000\n",
            "Epoch 2/10\n",
            "31/31 [==============================] - 0s 4ms/step - loss: 240486016.0000 - mse: 240486016.0000\n",
            "Epoch 3/10\n",
            "31/31 [==============================] - 0s 5ms/step - loss: 102305664.0000 - mse: 102305664.0000\n",
            "Epoch 4/10\n",
            "31/31 [==============================] - 0s 4ms/step - loss: 27130934.0000 - mse: 27130934.0000\n",
            "Epoch 5/10\n",
            "31/31 [==============================] - 0s 4ms/step - loss: 4467808.5000 - mse: 4467808.5000\n",
            "Epoch 6/10\n",
            "31/31 [==============================] - 0s 4ms/step - loss: 1834601.0000 - mse: 1834601.0000\n",
            "Epoch 7/10\n",
            "31/31 [==============================] - 0s 4ms/step - loss: 1788937.6250 - mse: 1788937.6250\n",
            "Epoch 8/10\n",
            "31/31 [==============================] - 0s 4ms/step - loss: 1787667.5000 - mse: 1787667.5000\n",
            "Epoch 9/10\n",
            "31/31 [==============================] - 0s 4ms/step - loss: 1786465.0000 - mse: 1786465.0000\n",
            "Epoch 10/10\n",
            "31/31 [==============================] - 0s 4ms/step - loss: 1786247.2500 - mse: 1786247.2500\n"
          ],
          "name": "stdout"
        },
        {
          "output_type": "execute_result",
          "data": {
            "text/plain": [
              "<keras.callbacks.History at 0x7fb9d2070890>"
            ]
          },
          "metadata": {},
          "execution_count": 15
        }
      ]
    },
    {
      "cell_type": "code",
      "metadata": {
        "colab": {
          "base_uri": "https://localhost:8080/"
        },
        "id": "7m2IpF0xrSJL",
        "outputId": "feb7d22b-8e1c-438b-89ad-5e0b8f8ecd3b"
      },
      "source": [
        "x_test, y_test, = arrange(test, 15)\n",
        "print (\"x-test is: {} and  y-test is: {}\".format(x_test.shape, y_test.shape))"
      ],
      "execution_count": 16,
      "outputs": [
        {
          "output_type": "stream",
          "text": [
            "x-test is: (231, 14, 1) and  y-test is: (231, 1, 1)\n"
          ],
          "name": "stdout"
        }
      ]
    },
    {
      "cell_type": "code",
      "metadata": {
        "colab": {
          "base_uri": "https://localhost:8080/"
        },
        "id": "dsnPkw8LrVlw",
        "outputId": "f2a81439-783b-4bc1-eb41-8c11f9746b23"
      },
      "source": [
        "print(x_test[0])\n",
        "print(y_test[0])"
      ],
      "execution_count": 17,
      "outputs": [
        {
          "output_type": "stream",
          "text": [
            "[[21170]\n",
            " [20770]\n",
            " [20710]\n",
            " [20880]\n",
            " [21330]\n",
            " [20840]\n",
            " [20910]\n",
            " [20120]\n",
            " [20260]\n",
            " [19860]\n",
            " [19700]\n",
            " [19460]\n",
            " [19360]\n",
            " [19420]]\n",
            "[[18990]]\n"
          ],
          "name": "stdout"
        }
      ]
    },
    {
      "cell_type": "code",
      "metadata": {
        "colab": {
          "base_uri": "https://localhost:8080/"
        },
        "id": "wPChbuyDrYjG",
        "outputId": "ce0664b6-b0a4-4e49-d58e-94e47f55c9fd"
      },
      "source": [
        "x_test, y_test, = arrange(test, 15) \n",
        "pred = Netp.predict(x_test) \n",
        "pred"
      ],
      "execution_count": 18,
      "outputs": [
        {
          "output_type": "execute_result",
          "data": {
            "text/plain": [
              "array([[19271.984 ],\n",
              "       [19240.283 ],\n",
              "       [19090.205 ],\n",
              "       [19020.13  ],\n",
              "       [18866.1   ],\n",
              "       [18628.205 ],\n",
              "       [18527.92  ],\n",
              "       [18450.707 ],\n",
              "       [18290.39  ],\n",
              "       [18009.943 ],\n",
              "       [17727.63  ],\n",
              "       [17519.812 ],\n",
              "       [17401.672 ],\n",
              "       [17288.463 ],\n",
              "       [17051.1   ],\n",
              "       [16891.094 ],\n",
              "       [16940.969 ],\n",
              "       [16936.842 ],\n",
              "       [17033.146 ],\n",
              "       [17196.957 ],\n",
              "       [17401.525 ],\n",
              "       [17479.012 ],\n",
              "       [17469.639 ],\n",
              "       [17542.623 ],\n",
              "       [17631.047 ],\n",
              "       [17838.367 ],\n",
              "       [18012.094 ],\n",
              "       [18060.031 ],\n",
              "       [18050.607 ],\n",
              "       [17947.55  ],\n",
              "       [17724.748 ],\n",
              "       [17442.42  ],\n",
              "       [17162.732 ],\n",
              "       [16960.88  ],\n",
              "       [16910.266 ],\n",
              "       [16724.83  ],\n",
              "       [16415.121 ],\n",
              "       [16239.091 ],\n",
              "       [16365.596 ],\n",
              "       [17112.451 ],\n",
              "       [17968.557 ],\n",
              "       [18604.006 ],\n",
              "       [18806.414 ],\n",
              "       [18669.086 ],\n",
              "       [18446.58  ],\n",
              "       [18063.754 ],\n",
              "       [17996.186 ],\n",
              "       [18123.94  ],\n",
              "       [18153.914 ],\n",
              "       [18154.207 ],\n",
              "       [18269.13  ],\n",
              "       [18327.574 ],\n",
              "       [18283.    ],\n",
              "       [18238.498 ],\n",
              "       [18209.762 ],\n",
              "       [18313.85  ],\n",
              "       [18580.492 ],\n",
              "       [18596.17  ],\n",
              "       [18477.398 ],\n",
              "       [18285.21  ],\n",
              "       [18136.803 ],\n",
              "       [18135.566 ],\n",
              "       [18081.113 ],\n",
              "       [18062.088 ],\n",
              "       [18129.738 ],\n",
              "       [18262.76  ],\n",
              "       [18344.934 ],\n",
              "       [18437.049 ],\n",
              "       [18505.31  ],\n",
              "       [18552.29  ],\n",
              "       [18454.65  ],\n",
              "       [18281.28  ],\n",
              "       [18256.83  ],\n",
              "       [18193.469 ],\n",
              "       [18097.344 ],\n",
              "       [18016.406 ],\n",
              "       [17981.75  ],\n",
              "       [17932.238 ],\n",
              "       [17665.977 ],\n",
              "       [17429.611 ],\n",
              "       [17289.861 ],\n",
              "       [17354.355 ],\n",
              "       [17505.484 ],\n",
              "       [17464.172 ],\n",
              "       [17174.344 ],\n",
              "       [16833.69  ],\n",
              "       [16523.664 ],\n",
              "       [16242.805 ],\n",
              "       [16144.962 ],\n",
              "       [16119.547 ],\n",
              "       [16079.487 ],\n",
              "       [16083.323 ],\n",
              "       [15994.803 ],\n",
              "       [15881.646 ],\n",
              "       [15852.244 ],\n",
              "       [15949.181 ],\n",
              "       [16152.003 ],\n",
              "       [16210.647 ],\n",
              "       [16208.552 ],\n",
              "       [16146.481 ],\n",
              "       [15812.752 ],\n",
              "       [15594.465 ],\n",
              "       [15423.058 ],\n",
              "       [15367.603 ],\n",
              "       [15447.709 ],\n",
              "       [15671.284 ],\n",
              "       [15835.456 ],\n",
              "       [15948.375 ],\n",
              "       [15888.154 ],\n",
              "       [15980.857 ],\n",
              "       [16004.579 ],\n",
              "       [15976.307 ],\n",
              "       [15865.055 ],\n",
              "       [15689.969 ],\n",
              "       [15466.07  ],\n",
              "       [15347.64  ],\n",
              "       [15370.287 ],\n",
              "       [15435.228 ],\n",
              "       [15525.624 ],\n",
              "       [15690.436 ],\n",
              "       [15674.968 ],\n",
              "       [15615.273 ],\n",
              "       [15554.532 ],\n",
              "       [15538.208 ],\n",
              "       [15553.353 ],\n",
              "       [15750.565 ],\n",
              "       [16174.424 ],\n",
              "       [16454.152 ],\n",
              "       [16822.541 ],\n",
              "       [17344.021 ],\n",
              "       [17757.89  ],\n",
              "       [17889.324 ],\n",
              "       [17991.053 ],\n",
              "       [17917.951 ],\n",
              "       [17796.691 ],\n",
              "       [17473.21  ],\n",
              "       [17112.361 ],\n",
              "       [16942.35  ],\n",
              "       [16999.879 ],\n",
              "       [17069.65  ],\n",
              "       [16987.217 ],\n",
              "       [16938.158 ],\n",
              "       [16921.135 ],\n",
              "       [16981.676 ],\n",
              "       [16979.785 ],\n",
              "       [16828.547 ],\n",
              "       [16787.354 ],\n",
              "       [16894.113 ],\n",
              "       [17071.547 ],\n",
              "       [17163.14  ],\n",
              "       [17429.846 ],\n",
              "       [17691.197 ],\n",
              "       [17959.047 ],\n",
              "       [18040.236 ],\n",
              "       [18124.217 ],\n",
              "       [18096.854 ],\n",
              "       [18257.629 ],\n",
              "       [18489.562 ],\n",
              "       [18682.17  ],\n",
              "       [18869.621 ],\n",
              "       [18874.055 ],\n",
              "       [18880.77  ],\n",
              "       [18932.143 ],\n",
              "       [18262.277 ],\n",
              "       [17618.885 ],\n",
              "       [17380.99  ],\n",
              "       [17361.092 ],\n",
              "       [17474.678 ],\n",
              "       [17733.512 ],\n",
              "       [18237.068 ],\n",
              "       [18807.457 ],\n",
              "       [19176.52  ],\n",
              "       [19168.902 ],\n",
              "       [18922.613 ],\n",
              "       [18590.09  ],\n",
              "       [18384.77  ],\n",
              "       [18180.662 ],\n",
              "       [18059.191 ],\n",
              "       [18043.7   ],\n",
              "       [18000.557 ],\n",
              "       [17865.674 ],\n",
              "       [17859.01  ],\n",
              "       [17917.727 ],\n",
              "       [18025.205 ],\n",
              "       [18026.871 ],\n",
              "       [17981.299 ],\n",
              "       [17864.38  ],\n",
              "       [17584.906 ],\n",
              "       [17164.742 ],\n",
              "       [17078.799 ],\n",
              "       [17070.674 ],\n",
              "       [17009.807 ],\n",
              "       [17000.834 ],\n",
              "       [16992.797 ],\n",
              "       [16843.398 ],\n",
              "       [16694.5   ],\n",
              "       [16637.775 ],\n",
              "       [16681.273 ],\n",
              "       [16671.182 ],\n",
              "       [16563.682 ],\n",
              "       [16644.135 ],\n",
              "       [16591.232 ],\n",
              "       [16365.143 ],\n",
              "       [16192.848 ],\n",
              "       [15905.574 ],\n",
              "       [15660.475 ],\n",
              "       [15555.122 ],\n",
              "       [15658.529 ],\n",
              "       [15847.992 ],\n",
              "       [15869.79  ],\n",
              "       [15855.1455],\n",
              "       [15679.453 ],\n",
              "       [15510.626 ],\n",
              "       [15305.293 ],\n",
              "       [15161.502 ],\n",
              "       [15104.785 ],\n",
              "       [15026.282 ],\n",
              "       [14978.815 ],\n",
              "       [15001.7705],\n",
              "       [15043.885 ],\n",
              "       [14924.046 ],\n",
              "       [14903.968 ],\n",
              "       [14952.197 ],\n",
              "       [14975.643 ],\n",
              "       [14898.456 ],\n",
              "       [14751.525 ],\n",
              "       [14697.987 ],\n",
              "       [14610.801 ],\n",
              "       [14629.731 ],\n",
              "       [14503.006 ],\n",
              "       [14221.501 ]], dtype=float32)"
            ]
          },
          "metadata": {},
          "execution_count": 18
        }
      ]
    },
    {
      "cell_type": "markdown",
      "metadata": {
        "id": "dR1OvS1IAVn9"
      },
      "source": [
        "### **Comparing predictions with the actual value using plot**"
      ]
    },
    {
      "cell_type": "code",
      "metadata": {
        "colab": {
          "base_uri": "https://localhost:8080/",
          "height": 265
        },
        "id": "M7lAanNWrhq9",
        "outputId": "a366f3f3-06b5-4638-91a4-dec569bf3c14"
      },
      "source": [
        "plot_series([pred[:,0],y_test[:,:,0]])"
      ],
      "execution_count": 19,
      "outputs": [
        {
          "output_type": "display_data",
          "data": {
            "image/png": "[encoded data removed]",
            "text/plain": [
              "<Figure size 432x288 with 1 Axes>"
            ]
          },
          "metadata": {
            "needs_background": "light"
          }
        }
      ]
    },
    {
      "cell_type": "markdown",
      "metadata": {
        "id": "C5rYmMDqAenG"
      },
      "source": [
        "The plot in blue represents the predicted value by the model for the test dataset (pred), while the plot in orange represents the actual value of the test dataset (y_test).\n",
        "\n",
        "So now our model works good with epochs=10 as pred values are almost closer to the actual value."
      ]
    }
  ]
}