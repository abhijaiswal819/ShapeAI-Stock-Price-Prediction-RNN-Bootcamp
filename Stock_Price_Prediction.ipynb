{
  "nbformat": 4,
  "nbformat_minor": 0,
  "metadata": {
    "colab": {
      "name": "Stock Price Prediction.ipynb",
      "provenance": []
    },
    "kernelspec": {
      "name": "python3",
      "display_name": "Python 3"
    },
    "language_info": {
      "name": "python"
    }
  },
  "cells": [
    {
      "cell_type": "code",
      "metadata": {
        "id": "47eyYc0YlZqP"
      },
      "source": [
        "import numpy as np\n",
        "import pandas as pd "
      ],
      "execution_count": 1,
      "outputs": []
    },
    {
      "cell_type": "markdown",
      "metadata": {
        "id": "S0WuAghLvVl3"
      },
      "source": [
        "### **Reading Dataset**"
      ]
    },
    {
      "cell_type": "code",
      "metadata": {
        "id": "TfnB3sQcp4H2"
      },
      "source": [
        "path =\"/content/Uniqlo(FastRetailing) 2012-2016 Training - stocks2012-2016.csv\"\n",
        "df = pd.read_csv(path)"
      ],
      "execution_count": 2,
      "outputs": []
    },
    {
      "cell_type": "code",
      "metadata": {
        "colab": {
          "base_uri": "https://localhost:8080/",
          "height": 204
        },
        "id": "oJtUL2CnqlU3",
        "outputId": "990181ec-39f7-412c-8160-5bd92b048570"
      },
      "source": [
        "df.head() #show top few rows of data"
      ],
      "execution_count": 3,
      "outputs": [
        {
          "output_type": "execute_result",
          "data": {
            "text/html": [
              "<div>\n",
              "<style scoped>\n",
              "    .dataframe tbody tr th:only-of-type {\n",
              "        vertical-align: middle;\n",
              "    }\n",
              "\n",
              "    .dataframe tbody tr th {\n",
              "        vertical-align: top;\n",
              "    }\n",
              "\n",
              "    .dataframe thead th {\n",
              "        text-align: right;\n",
              "    }\n",
              "</style>\n",
              "<table border=\"1\" class=\"dataframe\">\n",
              "  <thead>\n",
              "    <tr style=\"text-align: right;\">\n",
              "      <th></th>\n",
              "      <th>Date</th>\n",
              "      <th>Open</th>\n",
              "      <th>High</th>\n",
              "      <th>Low</th>\n",
              "      <th>Close</th>\n",
              "      <th>Volume</th>\n",
              "      <th>Stock Trading</th>\n",
              "    </tr>\n",
              "  </thead>\n",
              "  <tbody>\n",
              "    <tr>\n",
              "      <th>0</th>\n",
              "      <td>2016-12-30</td>\n",
              "      <td>42120</td>\n",
              "      <td>42330</td>\n",
              "      <td>41700</td>\n",
              "      <td>41830</td>\n",
              "      <td>610000</td>\n",
              "      <td>25628028000</td>\n",
              "    </tr>\n",
              "    <tr>\n",
              "      <th>1</th>\n",
              "      <td>2016-12-29</td>\n",
              "      <td>43000</td>\n",
              "      <td>43220</td>\n",
              "      <td>42540</td>\n",
              "      <td>42660</td>\n",
              "      <td>448400</td>\n",
              "      <td>19188227000</td>\n",
              "    </tr>\n",
              "    <tr>\n",
              "      <th>2</th>\n",
              "      <td>2016-12-28</td>\n",
              "      <td>43940</td>\n",
              "      <td>43970</td>\n",
              "      <td>43270</td>\n",
              "      <td>43270</td>\n",
              "      <td>339900</td>\n",
              "      <td>14780670000</td>\n",
              "    </tr>\n",
              "    <tr>\n",
              "      <th>3</th>\n",
              "      <td>2016-12-27</td>\n",
              "      <td>43140</td>\n",
              "      <td>43700</td>\n",
              "      <td>43140</td>\n",
              "      <td>43620</td>\n",
              "      <td>400100</td>\n",
              "      <td>17427993000</td>\n",
              "    </tr>\n",
              "    <tr>\n",
              "      <th>4</th>\n",
              "      <td>2016-12-26</td>\n",
              "      <td>43310</td>\n",
              "      <td>43660</td>\n",
              "      <td>43090</td>\n",
              "      <td>43340</td>\n",
              "      <td>358200</td>\n",
              "      <td>15547803000</td>\n",
              "    </tr>\n",
              "  </tbody>\n",
              "</table>\n",
              "</div>"
            ],
            "text/plain": [
              "         Date   Open   High    Low  Close  Volume  Stock Trading\n",
              "0  2016-12-30  42120  42330  41700  41830  610000    25628028000\n",
              "1  2016-12-29  43000  43220  42540  42660  448400    19188227000\n",
              "2  2016-12-28  43940  43970  43270  43270  339900    14780670000\n",
              "3  2016-12-27  43140  43700  43140  43620  400100    17427993000\n",
              "4  2016-12-26  43310  43660  43090  43340  358200    15547803000"
            ]
          },
          "metadata": {},
          "execution_count": 3
        }
      ]
    },
    {
      "cell_type": "code",
      "metadata": {
        "colab": {
          "base_uri": "https://localhost:8080/",
          "height": 204
        },
        "id": "YMxp3AM6qqJy",
        "outputId": "cf853308-7955-48d9-972f-15c46198f19b"
      },
      "source": [
        "df.tail() #show bottom few rows of data"
      ],
      "execution_count": 4,
      "outputs": [
        {
          "output_type": "execute_result",
          "data": {
            "text/html": [
              "<div>\n",
              "<style scoped>\n",
              "    .dataframe tbody tr th:only-of-type {\n",
              "        vertical-align: middle;\n",
              "    }\n",
              "\n",
              "    .dataframe tbody tr th {\n",
              "        vertical-align: top;\n",
              "    }\n",
              "\n",
              "    .dataframe thead th {\n",
              "        text-align: right;\n",
              "    }\n",
              "</style>\n",
              "<table border=\"1\" class=\"dataframe\">\n",
              "  <thead>\n",
              "    <tr style=\"text-align: right;\">\n",
              "      <th></th>\n",
              "      <th>Date</th>\n",
              "      <th>Open</th>\n",
              "      <th>High</th>\n",
              "      <th>Low</th>\n",
              "      <th>Close</th>\n",
              "      <th>Volume</th>\n",
              "      <th>Stock Trading</th>\n",
              "    </tr>\n",
              "  </thead>\n",
              "  <tbody>\n",
              "    <tr>\n",
              "      <th>1221</th>\n",
              "      <td>2012-01-11</td>\n",
              "      <td>14360</td>\n",
              "      <td>14750</td>\n",
              "      <td>14280</td>\n",
              "      <td>14590</td>\n",
              "      <td>1043400</td>\n",
              "      <td>15191988000</td>\n",
              "    </tr>\n",
              "    <tr>\n",
              "      <th>1222</th>\n",
              "      <td>2012-01-10</td>\n",
              "      <td>13890</td>\n",
              "      <td>14390</td>\n",
              "      <td>13860</td>\n",
              "      <td>14390</td>\n",
              "      <td>952300</td>\n",
              "      <td>13533413000</td>\n",
              "    </tr>\n",
              "    <tr>\n",
              "      <th>1223</th>\n",
              "      <td>2012-01-06</td>\n",
              "      <td>13990</td>\n",
              "      <td>14030</td>\n",
              "      <td>13790</td>\n",
              "      <td>13850</td>\n",
              "      <td>765500</td>\n",
              "      <td>10635609000</td>\n",
              "    </tr>\n",
              "    <tr>\n",
              "      <th>1224</th>\n",
              "      <td>2012-01-05</td>\n",
              "      <td>13720</td>\n",
              "      <td>13840</td>\n",
              "      <td>13600</td>\n",
              "      <td>13800</td>\n",
              "      <td>511500</td>\n",
              "      <td>7030811000</td>\n",
              "    </tr>\n",
              "    <tr>\n",
              "      <th>1225</th>\n",
              "      <td>2012-01-04</td>\n",
              "      <td>14050</td>\n",
              "      <td>14050</td>\n",
              "      <td>13700</td>\n",
              "      <td>13720</td>\n",
              "      <td>559100</td>\n",
              "      <td>7719804000</td>\n",
              "    </tr>\n",
              "  </tbody>\n",
              "</table>\n",
              "</div>"
            ],
            "text/plain": [
              "            Date   Open   High    Low  Close   Volume  Stock Trading\n",
              "1221  2012-01-11  14360  14750  14280  14590  1043400    15191988000\n",
              "1222  2012-01-10  13890  14390  13860  14390   952300    13533413000\n",
              "1223  2012-01-06  13990  14030  13790  13850   765500    10635609000\n",
              "1224  2012-01-05  13720  13840  13600  13800   511500     7030811000\n",
              "1225  2012-01-04  14050  14050  13700  13720   559100     7719804000"
            ]
          },
          "metadata": {},
          "execution_count": 4
        }
      ]
    },
    {
      "cell_type": "code",
      "metadata": {
        "colab": {
          "base_uri": "https://localhost:8080/"
        },
        "id": "9TP3eA5Rqtnd",
        "outputId": "7c3904ff-42e9-4b8b-e919-3a6ffd6891da"
      },
      "source": [
        "df = df['High'] #select data in open column only \n",
        "df.head()"
      ],
      "execution_count": 5,
      "outputs": [
        {
          "output_type": "execute_result",
          "data": {
            "text/plain": [
              "0    42330\n",
              "1    43220\n",
              "2    43970\n",
              "3    43700\n",
              "4    43660\n",
              "Name: High, dtype: int64"
            ]
          },
          "metadata": {},
          "execution_count": 5
        }
      ]
    },
    {
      "cell_type": "markdown",
      "metadata": {
        "id": "Akn9WeLwv_0S"
      },
      "source": [
        "### **Ploting the time series**"
      ]
    },
    {
      "cell_type": "code",
      "metadata": {
        "id": "4DjlEFlMqw_i"
      },
      "source": [
        "import matplotlib.pyplot as plt\n",
        "\n",
        "def plot_series(data):\n",
        "  for df in data :\n",
        "    plt.plot(df)\n",
        "  plt.show() "
      ],
      "execution_count": 6,
      "outputs": []
    },
    {
      "cell_type": "markdown",
      "metadata": {
        "id": "W6W1R-qlwXW7"
      },
      "source": [
        "### **Splitting the dataset in Train and Test set**"
      ]
    },
    {
      "cell_type": "code",
      "metadata": {
        "id": "Ylb_bCKDqz24"
      },
      "source": [
        "# Using 80% of the dataset for training and rest for testing\n",
        "train = df[:int(0.8*len(df))]\n",
        "test = df[int(0.8*len(df)) :]"
      ],
      "execution_count": 7,
      "outputs": []
    },
    {
      "cell_type": "markdown",
      "metadata": {
        "id": "hVwctRgaxScQ"
      },
      "source": [
        "### **Reshaping the data into the required form to be fed into the RNN**"
      ]
    },
    {
      "cell_type": "code",
      "metadata": {
        "id": "1jTL5kTUq3vI"
      },
      "source": [
        "def arrange(data,window=10):\n",
        "  x = []\n",
        "  y = []\n",
        "\n",
        "  for i,val in enumerate(data):\n",
        "    if i<window:\n",
        "      continue\n",
        "    x.append(data[i-window :i-1].values.reshape(-1,1))\n",
        "    y.append(data[i:i+1].values.reshape(-1,1))\n",
        "\n",
        "  x = np.asarray(x)\n",
        "  y = np.asarray(y)\n",
        "\n",
        "  return x,y "
      ],
      "execution_count": 8,
      "outputs": []
    },
    {
      "cell_type": "code",
      "metadata": {
        "colab": {
          "base_uri": "https://localhost:8080/"
        },
        "id": "hwNTnjdOq7mV",
        "outputId": "e020c119-d611-4666-a8c9-ff88994505b4"
      },
      "source": [
        "x_train, y_train = arrange(train,15)\n",
        "print(\"x_shape is: {} and y-shape is: {}\".format(x_train.shape , y_train.shape))"
      ],
      "execution_count": 9,
      "outputs": [
        {
          "output_type": "stream",
          "text": [
            "x_shape is: (965, 14, 1) and y-shape is: (965, 1, 1)\n"
          ],
          "name": "stdout"
        }
      ]
    },
    {
      "cell_type": "code",
      "metadata": {
        "colab": {
          "base_uri": "https://localhost:8080/"
        },
        "id": "95et9OXFq-tt",
        "outputId": "b7d3abf5-f213-4d40-bfb8-8462ed482a35"
      },
      "source": [
        "print(x_train[0])\n",
        "print(y_train[0])"
      ],
      "execution_count": 10,
      "outputs": [
        {
          "output_type": "stream",
          "text": [
            "[[42330]\n",
            " [43220]\n",
            " [43970]\n",
            " [43700]\n",
            " [43660]\n",
            " [43840]\n",
            " [44370]\n",
            " [43630]\n",
            " [43150]\n",
            " [43550]\n",
            " [43880]\n",
            " [43440]\n",
            " [43300]\n",
            " [44000]]\n",
            "[[41560]]\n"
          ],
          "name": "stdout"
        }
      ]
    },
    {
      "cell_type": "markdown",
      "metadata": {
        "id": "2SIOoyh51zzc"
      },
      "source": [
        "### **Building the Model**"
      ]
    },
    {
      "cell_type": "code",
      "metadata": {
        "id": "Tbh2BF9nrB_U"
      },
      "source": [
        "import tensorflow as tf\n",
        "from tensorflow import keras\n",
        "from keras.models import Sequential\n",
        "from keras.layers import SimpleRNN,Dense,Input"
      ],
      "execution_count": 11,
      "outputs": []
    },
    {
      "cell_type": "code",
      "metadata": {
        "colab": {
          "base_uri": "https://localhost:8080/"
        },
        "id": "E7vyNQhwrEo5",
        "outputId": "49eb70e8-da10-42f5-b757-6d1f85ce977d"
      },
      "source": [
        "x_train.shape[1:]"
      ],
      "execution_count": 12,
      "outputs": [
        {
          "output_type": "execute_result",
          "data": {
            "text/plain": [
              "(14, 1)"
            ]
          },
          "metadata": {},
          "execution_count": 12
        }
      ]
    },
    {
      "cell_type": "code",
      "metadata": {
        "colab": {
          "base_uri": "https://localhost:8080/"
        },
        "id": "TeWcZp_ArIQp",
        "outputId": "040901c4-64a6-431d-c629-b00b041a7796"
      },
      "source": [
        "Netp = Sequential()\n",
        "Netp.add(SimpleRNN(3,activation='relu',input_shape=x_train.shape[1:]))\n",
        "Netp.add(Dense(1,activation='relu'))\n",
        "\n",
        "Netp.summary()"
      ],
      "execution_count": 13,
      "outputs": [
        {
          "output_type": "stream",
          "text": [
            "Model: \"sequential\"\n",
            "_________________________________________________________________\n",
            "Layer (type)                 Output Shape              Param #   \n",
            "=================================================================\n",
            "simple_rnn (SimpleRNN)       (None, 3)                 15        \n",
            "_________________________________________________________________\n",
            "dense (Dense)                (None, 1)                 4         \n",
            "=================================================================\n",
            "Total params: 19\n",
            "Trainable params: 19\n",
            "Non-trainable params: 0\n",
            "_________________________________________________________________\n"
          ],
          "name": "stdout"
        }
      ]
    },
    {
      "cell_type": "code",
      "metadata": {
        "id": "5M9zYMV8rL93"
      },
      "source": [
        "Netp.compile(loss = 'mean_squared_error',optimizer='adam',metrics=['mse'])"
      ],
      "execution_count": 14,
      "outputs": []
    },
    {
      "cell_type": "code",
      "metadata": {
        "colab": {
          "base_uri": "https://localhost:8080/"
        },
        "id": "uUfFhb2hrOqp",
        "outputId": "09a14f82-a8d1-4462-839e-e57f4b8580a9"
      },
      "source": [
        "Netp.fit(x_train, y_train, epochs=10)"
      ],
      "execution_count": 15,
      "outputs": [
        {
          "output_type": "stream",
          "text": [
            "Epoch 1/10\n",
            "31/31 [==============================] - 1s 4ms/step - loss: 14176679.0000 - mse: 14176679.0000\n",
            "Epoch 2/10\n",
            "31/31 [==============================] - 0s 4ms/step - loss: 3754925.2500 - mse: 3754925.2500\n",
            "Epoch 3/10\n",
            "31/31 [==============================] - 0s 4ms/step - loss: 3408029.5000 - mse: 3408029.5000\n",
            "Epoch 4/10\n",
            "31/31 [==============================] - 0s 4ms/step - loss: 3355321.0000 - mse: 3355321.0000\n",
            "Epoch 5/10\n",
            "31/31 [==============================] - 0s 4ms/step - loss: 3240078.5000 - mse: 3240078.5000\n",
            "Epoch 6/10\n",
            "31/31 [==============================] - 0s 4ms/step - loss: 3127426.2500 - mse: 3127426.2500\n",
            "Epoch 7/10\n",
            "31/31 [==============================] - 0s 4ms/step - loss: 3007508.5000 - mse: 3007508.5000\n",
            "Epoch 8/10\n",
            "31/31 [==============================] - 0s 4ms/step - loss: 2895236.5000 - mse: 2895236.5000\n",
            "Epoch 9/10\n",
            "31/31 [==============================] - 0s 4ms/step - loss: 2813231.0000 - mse: 2813231.0000\n",
            "Epoch 10/10\n",
            "31/31 [==============================] - 0s 4ms/step - loss: 2701400.7500 - mse: 2701400.7500\n"
          ],
          "name": "stdout"
        },
        {
          "output_type": "execute_result",
          "data": {
            "text/plain": [
              "<keras.callbacks.History at 0x7fe294c79ed0>"
            ]
          },
          "metadata": {},
          "execution_count": 15
        }
      ]
    },
    {
      "cell_type": "code",
      "metadata": {
        "colab": {
          "base_uri": "https://localhost:8080/"
        },
        "id": "7m2IpF0xrSJL",
        "outputId": "812b6496-65b6-4850-dba4-a2046abb8806"
      },
      "source": [
        "x_test, y_test, = arrange(test, 15)\n",
        "print (\"x-test is: {} and  y-test is: {}\".format(x_test.shape, y_test.shape))"
      ],
      "execution_count": 16,
      "outputs": [
        {
          "output_type": "stream",
          "text": [
            "x-test is: (231, 14, 1) and  y-test is: (231, 1, 1)\n"
          ],
          "name": "stdout"
        }
      ]
    },
    {
      "cell_type": "code",
      "metadata": {
        "colab": {
          "base_uri": "https://localhost:8080/"
        },
        "id": "dsnPkw8LrVlw",
        "outputId": "c4f8bdec-4ba0-4527-8a2b-139d81778b6b"
      },
      "source": [
        "print(x_test[0])\n",
        "print(y_test[0])"
      ],
      "execution_count": 17,
      "outputs": [
        {
          "output_type": "stream",
          "text": [
            "[[21170]\n",
            " [20770]\n",
            " [20710]\n",
            " [20880]\n",
            " [21330]\n",
            " [20840]\n",
            " [20910]\n",
            " [20120]\n",
            " [20260]\n",
            " [19860]\n",
            " [19700]\n",
            " [19460]\n",
            " [19360]\n",
            " [19420]]\n",
            "[[18990]]\n"
          ],
          "name": "stdout"
        }
      ]
    },
    {
      "cell_type": "code",
      "metadata": {
        "colab": {
          "base_uri": "https://localhost:8080/"
        },
        "id": "wPChbuyDrYjG",
        "outputId": "21cd63de-4da3-4953-d1f7-efd1850d9055"
      },
      "source": [
        "x_test, y_test, = arrange(test, 15) \n",
        "pred = Netp.predict(x_test) \n",
        "pred"
      ],
      "execution_count": 18,
      "outputs": [
        {
          "output_type": "execute_result",
          "data": {
            "text/plain": [
              "array([[19013.951],\n",
              "       [19417.293],\n",
              "       [19470.145],\n",
              "       [19173.363],\n",
              "       [18832.926],\n",
              "       [18641.934],\n",
              "       [18559.762],\n",
              "       [18723.662],\n",
              "       [18423.605],\n",
              "       [17907.768],\n",
              "       [17413.54 ],\n",
              "       [17398.168],\n",
              "       [17672.68 ],\n",
              "       [17727.861],\n",
              "       [17227.062],\n",
              "       [16655.441],\n",
              "       [16817.166],\n",
              "       [17424.922],\n",
              "       [17652.426],\n",
              "       [17472.805],\n",
              "       [17446.398],\n",
              "       [17528.06 ],\n",
              "       [17498.2  ],\n",
              "       [17519.273],\n",
              "       [17708.049],\n",
              "       [18061.666],\n",
              "       [18297.98 ],\n",
              "       [18084.65 ],\n",
              "       [17655.172],\n",
              "       [17530.121],\n",
              "       [17618.418],\n",
              "       [17393.822],\n",
              "       [17019.89 ],\n",
              "       [16806.973],\n",
              "       [16999.7  ],\n",
              "       [16957.441],\n",
              "       [16344.928],\n",
              "       [15948.593],\n",
              "       [16466.502],\n",
              "       [18191.281],\n",
              "       [19667.008],\n",
              "       [19521.373],\n",
              "       [18210.543],\n",
              "       [17252.924],\n",
              "       [17590.168],\n",
              "       [18275.94 ],\n",
              "       [18526.371],\n",
              "       [18385.984],\n",
              "       [18004.75 ],\n",
              "       [17647.145],\n",
              "       [17902.09 ],\n",
              "       [18505.896],\n",
              "       [18655.338],\n",
              "       [18473.93 ],\n",
              "       [18166.078],\n",
              "       [18259.053],\n",
              "       [18834.582],\n",
              "       [18980.604],\n",
              "       [18387.59 ],\n",
              "       [17612.414],\n",
              "       [17713.041],\n",
              "       [18477.55 ],\n",
              "       [18704.387],\n",
              "       [18198.05 ],\n",
              "       [17861.76 ],\n",
              "       [18149.656],\n",
              "       [18633.639],\n",
              "       [18816.795],\n",
              "       [18605.58 ],\n",
              "       [18423.18 ],\n",
              "       [18384.531],\n",
              "       [18144.5  ],\n",
              "       [18143.508],\n",
              "       [18269.514],\n",
              "       [18207.8  ],\n",
              "       [18029.475],\n",
              "       [17871.166],\n",
              "       [17902.16 ],\n",
              "       [17701.486],\n",
              "       [17322.129],\n",
              "       [17169.031],\n",
              "       [17566.715],\n",
              "       [18092.725],\n",
              "       [17908.879],\n",
              "       [16836.61 ],\n",
              "       [15978.006],\n",
              "       [16174.213],\n",
              "       [16666.28 ],\n",
              "       [16776.133],\n",
              "       [16423.283],\n",
              "       [15989.23 ],\n",
              "       [15954.711],\n",
              "       [16046.393],\n",
              "       [16066.277],\n",
              "       [16032.91 ],\n",
              "       [16219.601],\n",
              "       [16578.729],\n",
              "       [16506.346],\n",
              "       [16036.4  ],\n",
              "       [15773.849],\n",
              "       [15547.117],\n",
              "       [15427.809],\n",
              "       [15534.798],\n",
              "       [15620.836],\n",
              "       [15674.678],\n",
              "       [15916.487],\n",
              "       [16055.564],\n",
              "       [16008.   ],\n",
              "       [15786.765],\n",
              "       [15899.045],\n",
              "       [16246.094],\n",
              "       [16197.246],\n",
              "       [15783.546],\n",
              "       [15343.757],\n",
              "       [15034.408],\n",
              "       [15272.189],\n",
              "       [15712.567],\n",
              "       [15883.213],\n",
              "       [15706.639],\n",
              "       [15676.662],\n",
              "       [15654.572],\n",
              "       [15588.672],\n",
              "       [15490.208],\n",
              "       [15647.594],\n",
              "       [15755.654],\n",
              "       [15968.235],\n",
              "       [16502.459],\n",
              "       [16828.53 ],\n",
              "       [16913.504],\n",
              "       [17403.527],\n",
              "       [18056.375],\n",
              "       [18042.367],\n",
              "       [17649.947],\n",
              "       [17421.223],\n",
              "       [17376.383],\n",
              "       [17235.77 ],\n",
              "       [16807.758],\n",
              "       [16620.193],\n",
              "       [17014.709],\n",
              "       [17529.62 ],\n",
              "       [17376.42 ],\n",
              "       [16678.766],\n",
              "       [16552.184],\n",
              "       [17218.584],\n",
              "       [17653.834],\n",
              "       [17070.342],\n",
              "       [16440.453],\n",
              "       [16632.707],\n",
              "       [17492.727],\n",
              "       [17775.074],\n",
              "       [17580.717],\n",
              "       [17587.82 ],\n",
              "       [18023.432],\n",
              "       [18257.914],\n",
              "       [18084.174],\n",
              "       [17849.297],\n",
              "       [18085.709],\n",
              "       [18779.344],\n",
              "       [19108.934],\n",
              "       [18859.988],\n",
              "       [18472.432],\n",
              "       [18471.305],\n",
              "       [18934.91 ],\n",
              "       [18217.418],\n",
              "       [16836.281],\n",
              "       [16625.48 ],\n",
              "       [17757.666],\n",
              "       [18608.639],\n",
              "       [18522.121],\n",
              "       [18243.074],\n",
              "       [18849.977],\n",
              "       [19680.895],\n",
              "       [19531.465],\n",
              "       [18510.168],\n",
              "       [17731.703],\n",
              "       [17950.191],\n",
              "       [18694.848],\n",
              "       [18362.72 ],\n",
              "       [17767.5  ],\n",
              "       [17656.023],\n",
              "       [17794.984],\n",
              "       [18050.898],\n",
              "       [18284.49 ],\n",
              "       [18436.621],\n",
              "       [18277.607],\n",
              "       [17900.87 ],\n",
              "       [17581.896],\n",
              "       [17345.184],\n",
              "       [16969.012],\n",
              "       [17061.191],\n",
              "       [17419.752],\n",
              "       [17414.203],\n",
              "       [17091.895],\n",
              "       [16836.467],\n",
              "       [16676.16 ],\n",
              "       [16721.156],\n",
              "       [16884.111],\n",
              "       [17057.121],\n",
              "       [16905.453],\n",
              "       [16490.63 ],\n",
              "       [16482.895],\n",
              "       [16667.91 ],\n",
              "       [16380.857],\n",
              "       [16103.624],\n",
              "       [15766.564],\n",
              "       [15490.889],\n",
              "       [15621.729],\n",
              "       [16085.06 ],\n",
              "       [16375.9  ],\n",
              "       [16095.153],\n",
              "       [15627.347],\n",
              "       [15377.869],\n",
              "       [15397.89 ],\n",
              "       [15420.42 ],\n",
              "       [15422.592],\n",
              "       [15234.555],\n",
              "       [14957.398],\n",
              "       [14924.254],\n",
              "       [15065.535],\n",
              "       [15267.998],\n",
              "       [15094.918],\n",
              "       [14878.379],\n",
              "       [15002.653],\n",
              "       [15162.894],\n",
              "       [15073.084],\n",
              "       [14611.668],\n",
              "       [14445.135],\n",
              "       [14587.941],\n",
              "       [14878.391],\n",
              "       [14769.761],\n",
              "       [14016.861]], dtype=float32)"
            ]
          },
          "metadata": {},
          "execution_count": 18
        }
      ]
    },
    {
      "cell_type": "markdown",
      "metadata": {
        "id": "dR1OvS1IAVn9"
      },
      "source": [
        "### **Comparing predictions with the actual value using plot**"
      ]
    },
    {
      "cell_type": "code",
      "metadata": {
        "colab": {
          "base_uri": "https://localhost:8080/",
          "height": 265
        },
        "id": "M7lAanNWrhq9",
        "outputId": "a0e0bc56-1467-4280-f9bb-71306cf9ac51"
      },
      "source": [
        "plot_series([pred[:,0],y_test[:,:,0]])"
      ],
      "execution_count": 19,
      "outputs": [
        {
          "output_type": "display_data",
          "data": {
            "image/png": "[encoded data removed]",
            "text/plain": [
              "<Figure size 432x288 with 1 Axes>"
            ]
          },
          "metadata": {
            "needs_background": "light"
          }
        }
      ]
    },
    {
      "cell_type": "markdown",
      "metadata": {
        "id": "C5rYmMDqAenG"
      },
      "source": [
        "The plot in blue represents the predicted value by the model for the test dataset (pred), while the plot in orange represents the actual value of the test dataset (y_test)\n",
        "\n",
        "So now our model works good with epochs=10 as pred values are almost closer to the actual value"
      ]
    }
  ]
}